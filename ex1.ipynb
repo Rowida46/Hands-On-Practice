{
 "cells": [
  {
   "cell_type": "code",
   "execution_count": 22,
   "metadata": {},
   "outputs": [
    {
     "name": "stdout",
     "output_type": "stream",
     "text": [
      "3\n",
      "4\n",
      "factorial of 4 is : 12\n",
      "\n",
      "5\n",
      "factorial of 5 is : 20\n",
      "\n",
      "6\n",
      "factorial of 6 is : 30\n",
      "\n"
     ]
    }
   ],
   "source": [
    "def fact(n):\n",
    "    if n>=0 :\n",
    "        if n>=1 :\n",
    "            return n*(n-1)\n",
    "        else:\n",
    "            return 1\n",
    "    \n",
    "n=int(input())           \n",
    "for i in range(n):\n",
    "    x= input()\n",
    "    print(\"factorial of \" + str(x)  + \" is : \" , end = '')\n",
    "    print(fact(int(x)))\n",
    "    print()"
   ]
  },
  {
   "cell_type": "code",
   "execution_count": 23,
   "metadata": {},
   "outputs": [
    {
     "name": "stdout",
     "output_type": "stream",
     "text": [
      "TRUE <-- Testing True\n",
      "FALSE <-- Testing False\n"
     ]
    }
   ],
   "source": [
    "def print_truthiness(msg, exp):\n",
    "    print((\"TRUE\" if exp else \"FALSE\") + \" <-- \" + msg)\n",
    "\n",
    "\n",
    "print_truthiness(\"Testing True\", True)\n",
    "print_truthiness(\"Testing False\", False)"
   ]
  },
  {
   "cell_type": "code",
   "execution_count": 24,
   "metadata": {},
   "outputs": [
    {
     "name": "stdout",
     "output_type": "stream",
     "text": [
      "True\n",
      "4 5\n"
     ]
    }
   ],
   "source": [
    "def text(x,y):\n",
    "    print(not x)\n",
    "    print(4 if not x else 7  ,  y)\n",
    "    \n",
    "text(0 , 5)"
   ]
  },
  {
   "cell_type": "code",
   "execution_count": 25,
   "metadata": {},
   "outputs": [
    {
     "name": "stdout",
     "output_type": "stream",
     "text": [
      "FALSE <-- Empty list\n",
      "TRUE <-- 1 item list\n",
      "FALSE <-- For none\n"
     ]
    }
   ],
   "source": [
    "seq = []\n",
    "print_truthiness(\"Empty list\", seq)\n",
    "seq.append(\"The cat\")\n",
    "print_truthiness(\"1 item list\", seq)\n",
    "print_truthiness(\"For none\", None)"
   ]
  },
  {
   "cell_type": "code",
   "execution_count": 26,
   "metadata": {},
   "outputs": [
    {
     "name": "stdout",
     "output_type": "stream",
     "text": [
      "g\n",
      "o\n"
     ]
    }
   ],
   "source": [
    "import random\n",
    "\n",
    "letters = \"abcdefghijklmnopqrstuvwxyz1234567890\"\n",
    "\n",
    "# BAD: C-style\n",
    "index = random.randint(0, len(letters)-1)\n",
    "item = letters[index]\n",
    "print(item)\n",
    "\n",
    "# Pythonic version\n",
    "item = random.choice(letters)\n",
    "print(item)"
   ]
  },
  {
   "cell_type": "code",
   "execution_count": 28,
   "metadata": {},
   "outputs": [
    {
     "name": "stdout",
     "output_type": "stream",
     "text": [
      "TRUE <-- nonempty AClass\n"
     ]
    }
   ],
   "source": [
    "class AClass:\n",
    "    def __init__(self):\n",
    "        self.data = []\n",
    "\n",
    "    def add(self, item):\n",
    "        self.data.append(item)\n",
    "\n",
    "    def __bool__(self):\n",
    "        return True if self.data else False\n",
    "\n",
    "a = AClass()\n",
    "\n",
    "a.add(\"Thing\")\n",
    "print_truthiness(\"nonempty AClass\", a)"
   ]
  },
  {
   "cell_type": "code",
   "execution_count": 29,
   "metadata": {},
   "outputs": [
    {
     "name": "stdout",
     "output_type": "stream",
     "text": [
      "Are you sure you want to format drive C: [yes, NO]? yep i want\n",
      "nope\n"
     ]
    }
   ],
   "source": [
    "confirm = input(\"Are you sure you want to format drive C: [yes, NO]? \")\n",
    "if not confirm or confirm.lower() != 'yes':\n",
    "    print(\"nope\")\n",
    "else: \n",
    "    print(\"yup\")"
   ]
  },
  {
   "cell_type": "code",
   "execution_count": 30,
   "metadata": {},
   "outputs": [
    {
     "name": "stdout",
     "output_type": "stream",
     "text": [
      "5\n",
      "nope\n"
     ]
    }
   ],
   "source": [
    "import time\n",
    "print(5)\n",
    "time.sleep(15)\n",
    "print(\"nope\")"
   ]
  },
  {
   "cell_type": "code",
   "execution_count": 31,
   "metadata": {},
   "outputs": [
    {
     "name": "stdout",
     "output_type": "stream",
     "text": [
      "Hi, I'm dana and I'm 18 years old.\n"
     ]
    }
   ],
   "source": [
    "name='dana' ; age = 18\n",
    "print(\"Hi, I'm %s and I'm %d years old.\" % (name, age))"
   ]
  },
  {
   "cell_type": "code",
   "execution_count": 32,
   "metadata": {},
   "outputs": [
    {
     "name": "stdout",
     "output_type": "stream",
     "text": [
      "it's my fault and i'll Do that for my 4 time\n"
     ]
    }
   ],
   "source": [
    "print(\"it's my %sand i'll Do that for my %d time\" % ('fault ' , 4))\n"
   ]
  },
  {
   "cell_type": "code",
   "execution_count": null,
   "metadata": {},
   "outputs": [],
   "source": [
    "def fact(n):\n",
    "    if n>=0 :\n",
    "        return n*(n-1)\n",
    "fact(0)"
   ]
  }
 ],
 "metadata": {
  "kernelspec": {
   "display_name": "Python 3",
   "language": "python",
   "name": "python3"
  },
  "language_info": {
   "codemirror_mode": {
    "name": "ipython",
    "version": 3
   },
   "file_extension": ".py",
   "mimetype": "text/x-python",
   "name": "python",
   "nbconvert_exporter": "python",
   "pygments_lexer": "ipython3",
   "version": "3.7.0"
  }
 },
 "nbformat": 4,
 "nbformat_minor": 2
}
