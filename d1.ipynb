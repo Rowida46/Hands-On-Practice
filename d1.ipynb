{
 "cells": [
  {
   "cell_type": "code",
   "execution_count": 4,
   "metadata": {},
   "outputs": [
    {
     "name": "stdout",
     "output_type": "stream",
     "text": [
      "02-08-2024\n"
     ]
    }
   ],
   "source": [
    "s = list(input().split(\"-\"))"
   ]
  },
  {
   "cell_type": "markdown",
   "metadata": {},
   "source": [
    "# Mean, Median, and Mode\n",
    "\n"
   ]
  },
  {
   "cell_type": "code",
   "execution_count": 87,
   "metadata": {},
   "outputs": [
    {
     "name": "stdout",
     "output_type": "stream",
     "text": [
      "8\n",
      "-1 -2 -3 -4 4 3 2 1\n",
      "0.0\n"
     ]
    }
   ],
   "source": [
    "from collections import Counter \n",
    "def mean(l , n):\n",
    "    Sum=0\n",
    "    for i in l:\n",
    "        Sum+=i\n",
    "    return Sum/n\n",
    "\n",
    "#---------------------------\n",
    "def median(l , n):\n",
    "    '''\n",
    "    For odd set of elements, the median value is the middle one\n",
    "    For even set of elements, the median value is the mean of two middle elements\n",
    "    '''\n",
    "    med =0\n",
    "    l = sorted(l)\n",
    "    if n%2 ==0 :\n",
    "        med = (l[(n//2)]   + l[(n//2)-1])/2\n",
    "    else :\n",
    "        med = l[((n+1)//2 )-1]\n",
    "    return med\n",
    "#-----------------------------------\n",
    "def mode(ll , n):\n",
    "    data = Counter(ll) \n",
    "    data = dict(data) \n",
    "    m = [k for k, v in data.items() if v == max(list(data.values()))] \n",
    "    if(len(m) !=1):\n",
    "        print(min(m))\n",
    "    else:\n",
    "        print(m)\n",
    "#----------------------------------    \n",
    "n = int(input())     #2 3 4 5 7 9 11\n",
    "#print(mean(x , n))\n",
    "x = list(map(int , input().split()))\n",
    "print(median(x , n)) \n",
    "#mode(x , n)\n"
   ]
  },
  {
   "cell_type": "code",
   "execution_count": 65,
   "metadata": {},
   "outputs": [
    {
     "name": "stdout",
     "output_type": "stream",
     "text": [
      "10\n",
      "64630 11735 14216 99233 14470 4978 73429 38120 51135 67060\n",
      "43900.6\n",
      "44627.5\n",
      "4978\n"
     ]
    }
   ],
   "source": [
    "from statistics import mean,median,mode\n",
    "N = int(input().strip())\n",
    "\n",
    "arr = [int(i) for i in input().strip().split(' ')]\n",
    "arr.sort()\n",
    "\n",
    "print('{0:.1f}'.format(sum(arr)/N))\n",
    "\n",
    "if N % 2 == 1:\n",
    "    print('{0:.1f}'.format(arr[int((N-1)/2)]))\n",
    "else:\n",
    "    print('{0:.1f}'.format(0.5*(arr[int(N/2)-1]+arr[int(N/2)])))\n",
    "    \n",
    "counts=[]\n",
    "for i in arr:\n",
    "    counts.append(arr.count(i))\n",
    "if max(counts) > 1:\n",
    "    print(arr[counts.index(max(counts))])\n",
    "else:\n",
    "    print(min(arr))"
   ]
  },
  {
   "cell_type": "code",
   "execution_count": 109,
   "metadata": {},
   "outputs": [
    {
     "name": "stdout",
     "output_type": "stream",
     "text": [
      "10\n",
      "10 40 30 50 20 10 40 30 50 20\n",
      "1 2 3 4 5 6 7 8 9 10\n",
      "31.1\n"
     ]
    }
   ],
   "source": [
    "# Enter your code here. Read input from STDIN. Print output to STDOUT\n",
    "\n",
    "def WeightedMean(n , x , w ):\n",
    "    Sum=0 ; W =0\n",
    "    for i in range(n):\n",
    "        Sum+=(x[i] * w[i])\n",
    "        W+=w[i]\n",
    "    return round(Sum/W ,1)\n",
    "\n",
    "n = int(input())\n",
    "x = list(map(int , input().split()))\n",
    "w = list(map(int , input().split()))\n",
    "print(WeightedMean(n , x , w))"
   ]
  },
  {
   "cell_type": "code",
   "execution_count": 111,
   "metadata": {},
   "outputs": [
    {
     "ename": "SyntaxError",
     "evalue": "invalid syntax (<ipython-input-111-3f5cd25e4869>, line 2)",
     "output_type": "error",
     "traceback": [
      "\u001b[1;36m  File \u001b[1;32m\"<ipython-input-111-3f5cd25e4869>\"\u001b[1;36m, line \u001b[1;32m2\u001b[0m\n\u001b[1;33m    for i in range(len(IN))@\u001b[0m\n\u001b[1;37m                            ^\u001b[0m\n\u001b[1;31mSyntaxError\u001b[0m\u001b[1;31m:\u001b[0m invalid syntax\n"
     ]
    }
   ],
   "source": [
    "IN = input()\n",
    "for i in range(len(IN)):\n",
    "    if IN[0] == \"-\":\n",
    "        \n",
    "        print(\"Negative numbers\")\n",
    "        "
   ]
  },
  {
   "cell_type": "code",
   "execution_count": null,
   "metadata": {},
   "outputs": [],
   "source": []
  }
 ],
 "metadata": {
  "kernelspec": {
   "display_name": "Python 3",
   "language": "python",
   "name": "python3"
  },
  "language_info": {
   "codemirror_mode": {
    "name": "ipython",
    "version": 3
   },
   "file_extension": ".py",
   "mimetype": "text/x-python",
   "name": "python",
   "nbconvert_exporter": "python",
   "pygments_lexer": "ipython3",
   "version": "3.7.0"
  }
 },
 "nbformat": 4,
 "nbformat_minor": 2
}
