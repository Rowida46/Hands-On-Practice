{
 "cells": [
  {
   "cell_type": "code",
   "execution_count": 8,
   "metadata": {},
   "outputs": [
    {
     "name": "stdout",
     "output_type": "stream",
     "text": [
      "3\n",
      "aa a ab aba\n"
     ]
    },
    {
     "data": {
      "text/plain": [
       "{'a', 'aa', 'ab', 'aba'}"
      ]
     },
     "execution_count": 8,
     "metadata": {},
     "output_type": "execute_result"
    }
   ],
   "source": [
    "a = int(input())\n",
    "x = input().split()\n",
    "set(x)"
   ]
  },
  {
   "cell_type": "code",
   "execution_count": 12,
   "metadata": {},
   "outputs": [
    {
     "name": "stdout",
     "output_type": "stream",
     "text": [
      "6 1\n",
      "1 1 2 3 4 1\n"
     ]
    },
    {
     "data": {
      "text/plain": [
       "3"
      ]
     },
     "execution_count": 12,
     "metadata": {},
     "output_type": "execute_result"
    }
   ],
   "source": [
    "I=lambda:map(int,input().split())\n",
    "n,h=I()\n",
    "sum(i>h for i in I()) "
   ]
  },
  {
   "cell_type": "code",
   "execution_count": 11,
   "metadata": {},
   "outputs": [
    {
     "name": "stdout",
     "output_type": "stream",
     "text": [
      "anas dana\n",
      "['a', 'n', 'a', 's']\n",
      "['d', 'a', 'n', 'a']\n"
     ]
    }
   ],
   "source": [
    "x = input().split()\n",
    "for i in x :\n",
    "    print( list(i))\n",
    "    "
   ]
  },
  {
   "cell_type": "code",
   "execution_count": 36,
   "metadata": {},
   "outputs": [
    {
     "name": "stdout",
     "output_type": "stream",
     "text": [
      "dana \n",
      "NO\n"
     ]
    }
   ],
   "source": [
    "check = ['Olya' , 'Danil' , 'Ann' , 'Nikita' , 'Slava']\n",
    "X = input()\n",
    "I = 0 \n",
    "for i in check :\n",
    "    if i in X :\n",
    "        I+=1\n",
    "print(('NO','YES')[I ==1])"
   ]
  },
  {
   "cell_type": "code",
   "execution_count": 38,
   "metadata": {},
   "outputs": [
    {
     "name": "stdout",
     "output_type": "stream",
     "text": [
      "34\n",
      "sevenkplus\n",
      "Danik\n"
     ]
    }
   ],
   "source": [
    "I=input\n",
    "n=int(I())\n",
    "a=I().count('A')*2\n",
    "print([['Friendship','Danik'][a<n],'Anton'][a>n])"
   ]
  },
  {
   "cell_type": "code",
   "execution_count": null,
   "metadata": {},
   "outputs": [],
   "source": []
  }
 ],
 "metadata": {
  "kernelspec": {
   "display_name": "Python 3",
   "language": "python",
   "name": "python3"
  },
  "language_info": {
   "codemirror_mode": {
    "name": "ipython",
    "version": 3
   },
   "file_extension": ".py",
   "mimetype": "text/x-python",
   "name": "python",
   "nbconvert_exporter": "python",
   "pygments_lexer": "ipython3",
   "version": "3.7.0"
  }
 },
 "nbformat": 4,
 "nbformat_minor": 2
}
