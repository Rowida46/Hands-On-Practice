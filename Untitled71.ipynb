{
 "cells": [
  {
   "cell_type": "code",
   "execution_count": 34,
   "metadata": {},
   "outputs": [
    {
     "name": "stdout",
     "output_type": "stream",
     "text": [
      "5\n",
      "1      2\n",
      "I hate that I love that I hate I hate that I love it\n"
     ]
    }
   ],
   "source": [
    "n = int (input())\n",
    "b=n%3 ; a = n//3 \n",
    "print(a , \"    \" , b)\n",
    "if b==0:\n",
    "    if (b==1):\n",
    "        print(\"I hate\" , end = ' ' )\n",
    "    elif (b==2):\n",
    "        print(\"I hate that I love\" , end = ' ')\n",
    "    else :\n",
    "        print(\"I hate that I love that I hate \"  ,  end = ' ')\n",
    "else:\n",
    "    if (b==1):\n",
    "        print(\"I hate that I love that I hate \" + \"I hate\" * a ,  end = ' ')\n",
    "    elif (b==2):\n",
    "        print(\"I hate that I love that I hate \" + \"I hate that I love\" * a ,  end = ' ')\n",
    "    else :\n",
    "        print(\"I hate that I love that I hate \" + \"I hate that I love that I hate \" * a ,end = ' ' )\n",
    "print(\"it\")\n",
    "    "
   ]
  }
 ],
 "metadata": {
  "kernelspec": {
   "display_name": "Python 3",
   "language": "python",
   "name": "python3"
  },
  "language_info": {
   "codemirror_mode": {
    "name": "ipython",
    "version": 3
   },
   "file_extension": ".py",
   "mimetype": "text/x-python",
   "name": "python",
   "nbconvert_exporter": "python",
   "pygments_lexer": "ipython3",
   "version": "3.7.0"
  }
 },
 "nbformat": 4,
 "nbformat_minor": 2
}
