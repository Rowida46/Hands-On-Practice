{
 "cells": [
  {
   "cell_type": "code",
   "execution_count": 11,
   "metadata": {},
   "outputs": [
    {
     "data": {
      "text/plain": [
       "45"
      ]
     },
     "execution_count": 11,
     "metadata": {},
     "output_type": "execute_result"
    }
   ],
   "source": [
    "y=0\n",
    "class A:\n",
    "    def Add (*x):\n",
    "        for i in x:\n",
    "            global y \n",
    "            y+=i\n",
    "        return y\n",
    "t = A()\n",
    "A.Add(45)"
   ]
  },
  {
   "cell_type": "code",
   "execution_count": 13,
   "metadata": {},
   "outputs": [
    {
     "name": "stdout",
     "output_type": "stream",
     "text": [
      "hello from the other side\n"
     ]
    }
   ],
   "source": [
    "# Programming Terms: Closures \n",
    "def outer (msg):\n",
    "   # msg = \" here we go again \"\n",
    "    def inner ():\n",
    "        print(msg)\n",
    "    return inner()\n",
    "outer(\"hello from the other side\")"
   ]
  },
  {
   "cell_type": "code",
   "execution_count": 21,
   "metadata": {},
   "outputs": [
    {
     "name": "stdout",
     "output_type": "stream",
     "text": [
      "sample of using Decorators term\n"
     ]
    }
   ],
   "source": [
    "# this is how to Decorator only one function\n",
    "def Decorators_function (function):\n",
    "    def return_function ():\n",
    "        return function()\n",
    "    return return_function()\n",
    "@Decorators_function    #instead of >--------- Decorators_function(diplay)\n",
    "def diplay ():\n",
    "    print(\"sample of using Decorators term\")\n",
    "#Decorators_function(diplay)"
   ]
  },
  {
   "cell_type": "code",
   "execution_count": 24,
   "metadata": {},
   "outputs": [
    {
     "name": "stdout",
     "output_type": "stream",
     "text": [
      "sample of using Decorators term\n",
      "And here is a second version or trail\n"
     ]
    }
   ],
   "source": [
    "def Decorators_function (function):\n",
    "    def return_function (*k  ,**a):\n",
    "        return function(*k , **a)\n",
    "    return return_function()\n",
    "@Decorators_function\n",
    "def diplay ():\n",
    "    print(\"sample of using Decorators term\")\n",
    "@Decorators_function\n",
    "def display_info():\n",
    "    print(\"And here is a second version or trail\")\n"
   ]
  },
  {
   "cell_type": "code",
   "execution_count": null,
   "metadata": {},
   "outputs": [],
   "source": []
  }
 ],
 "metadata": {
  "kernelspec": {
   "display_name": "Python 3",
   "language": "python",
   "name": "python3"
  },
  "language_info": {
   "codemirror_mode": {
    "name": "ipython",
    "version": 3
   },
   "file_extension": ".py",
   "mimetype": "text/x-python",
   "name": "python",
   "nbconvert_exporter": "python",
   "pygments_lexer": "ipython3",
   "version": "3.7.0"
  }
 },
 "nbformat": 4,
 "nbformat_minor": 2
}
