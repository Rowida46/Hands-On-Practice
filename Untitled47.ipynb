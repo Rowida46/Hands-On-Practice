{
 "cells": [
  {
   "cell_type": "code",
   "execution_count": null,
   "metadata": {},
   "outputs": [],
   "source": [
    "import os \n",
    "import numpy as np\n",
    "import pandas as pd\n",
    "from sklearn.cross_validation import train_test_split \n",
    "dir_path = os.path.dirname(os.path.realpath('__file__'))\n",
    "\n",
    "data_salary = pd.read_csv(dir_path + '\\\\Salary_Data.csv')\n",
    "x =  data_salary.YearsExperience\n",
    "y= data_salary['Salary']\n",
    "print(len(x) , len(y))"
   ]
  },
  {
   "cell_type": "code",
   "execution_count": null,
   "metadata": {},
   "outputs": [],
   "source": []
  }
 ],
 "metadata": {
  "kernelspec": {
   "display_name": "Python 3",
   "language": "python",
   "name": "python3"
  }
 },
 "nbformat": 4,
 "nbformat_minor": 2
}
