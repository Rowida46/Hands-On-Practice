{
 "cells": [
  {
   "cell_type": "code",
   "execution_count": 1,
   "metadata": {},
   "outputs": [
    {
     "data": {
      "text/plain": [
       "10"
      ]
     },
     "execution_count": 1,
     "metadata": {},
     "output_type": "execute_result"
    }
   ],
   "source": [
    "# tuple as a parameters\n",
    "def Linear_eqation(m , x , b):\n",
    "    y = m * x + b\n",
    "    return y\n",
    "Linear_eqation(*(2 , 3 ,4))\n"
   ]
  },
  {
   "cell_type": "code",
   "execution_count": 5,
   "metadata": {},
   "outputs": [
    {
     "data": {
      "text/plain": [
       "{'dana ': 18, 'anas': 20}"
      ]
     },
     "execution_count": 5,
     "metadata": {},
     "output_type": "execute_result"
    }
   ],
   "source": [
    "# dictionary as a parameters\n",
    "def name_age(**dic):\n",
    "    return  dic \n",
    "name = { 'dana ' : 18 , 'anas' : 20}\n",
    "name_age(**name)\n"
   ]
  },
  {
   "cell_type": "code",
   "execution_count": 24,
   "metadata": {},
   "outputs": [
    {
     "name": "stdout",
     "output_type": "stream",
     "text": [
      "here we go again\n",
      "<__main__.test object at 0x00000209457EB390>\n",
      "&&&&&&&&&\n"
     ]
    },
    {
     "data": {
      "text/plain": [
       "'dana'"
      ]
     },
     "execution_count": 24,
     "metadata": {},
     "output_type": "execute_result"
    }
   ],
   "source": [
    "#oop \n",
    "class test():\n",
    "    print(\"here we go again\")\n",
    "    def name_test(self , name ):\n",
    "        self.name=name\n",
    "        return self.name\n",
    "print(test())\n",
    "print(\"&&&&&&&&&\")\n",
    "x=test()\n",
    "x.name_test(\"dana\")\n"
   ]
  },
  {
   "cell_type": "code",
   "execution_count": 26,
   "metadata": {},
   "outputs": [
    {
     "name": "stdout",
     "output_type": "stream",
     "text": [
      "here we go again\n"
     ]
    },
    {
     "data": {
      "text/plain": [
       "'dana'"
      ]
     },
     "execution_count": 26,
     "metadata": {},
     "output_type": "execute_result"
    }
   ],
   "source": [
    "class test():\n",
    "    print(\"here we go again\")\n",
    "    def name_test(self , name ):\n",
    "        self.name=name\n",
    "    def name_test2(self):\n",
    "        return self.name\n",
    "x=test()\n",
    "y= x.name_test(str('dana'))\n",
    "x.name_test2()"
   ]
  },
  {
   "cell_type": "code",
   "execution_count": 32,
   "metadata": {},
   "outputs": [
    {
     "name": "stdout",
     "output_type": "stream",
     "text": [
      "here we go again\n",
      "4\n"
     ]
    }
   ],
   "source": [
    "#subclass\n",
    "class test():\n",
    "    print(\"here we go again\")\n",
    "    def name_test(self , name ):\n",
    "        self.name=name\n",
    "        return self.name\n",
    "class test3(test):\n",
    "    pass\n",
    "a = test3()\n",
    "print(a.name_test(4))\n"
   ]
  },
  {
   "cell_type": "code",
   "execution_count": 47,
   "metadata": {},
   "outputs": [
    {
     "data": {
      "text/plain": [
       "'mands'"
      ]
     },
     "execution_count": 47,
     "metadata": {},
     "output_type": "execute_result"
    }
   ],
   "source": [
    "class family():\n",
    "    def father(self , name):\n",
    "        self.name = name\n",
    "        return self.name\n",
    "    grand_pa= \"mands\"\n",
    "class child(family):\n",
    "    def childname(self , name):\n",
    "        self.name = name\n",
    "        return self.name\n",
    "x=family()\n",
    "y=child()\n",
    "x.father(\"shown\")\n",
    "y.grand_pa"
   ]
  },
  {
   "cell_type": "code",
   "execution_count": 49,
   "metadata": {},
   "outputs": [
    {
     "data": {
      "text/plain": [
       "'mands'"
      ]
     },
     "execution_count": 49,
     "metadata": {},
     "output_type": "execute_result"
    }
   ],
   "source": [
    "class family():\n",
    "    name=\"dana\"\n",
    "    grand_pa= \"mands\"\n",
    "class child(family):\n",
    "   name=\"rowida\"\n",
    "x=family()\n",
    "y=child()\n",
    "y.grand_pa"
   ]
  },
  {
   "cell_type": "code",
   "execution_count": 50,
   "metadata": {},
   "outputs": [
    {
     "data": {
      "text/plain": [
       "'dana'"
      ]
     },
     "execution_count": 50,
     "metadata": {},
     "output_type": "execute_result"
    }
   ],
   "source": [
    "class family():\n",
    "    name=\"dana\"\n",
    "    grand_pa= \"mands\"\n",
    "class child(family):\n",
    "   name=\"rowida\"\n",
    "x=family()\n",
    "y=child()\n",
    "x.name"
   ]
  },
  {
   "cell_type": "code",
   "execution_count": 57,
   "metadata": {},
   "outputs": [
    {
     "data": {
      "text/plain": [
       "\"My dad's name isgowy\""
      ]
     },
     "execution_count": 57,
     "metadata": {},
     "output_type": "execute_result"
    }
   ],
   "source": [
    "#mult subclasses\n",
    "class mam:\n",
    "    Mam=\"lina\"\n",
    "class dad:\n",
    "    Dad='gowy'\n",
    "a=dad.Dad\n",
    "class txt ( dad , mam):\n",
    "    Name = \"My dad's name is\" + a\n",
    "    \n",
    "x=txt()\n",
    "x.Name"
   ]
  },
  {
   "cell_type": "code",
   "execution_count": null,
   "metadata": {},
   "outputs": [],
   "source": [
    "#Constructors\n"
   ]
  }
 ],
 "metadata": {
  "kernelspec": {
   "display_name": "Python 3",
   "language": "python",
   "name": "python3"
  },
  "language_info": {
   "codemirror_mode": {
    "name": "ipython",
    "version": 3
   },
   "file_extension": ".py",
   "mimetype": "text/x-python",
   "name": "python",
   "nbconvert_exporter": "python",
   "pygments_lexer": "ipython3",
   "version": "3.7.0"
  }
 },
 "nbformat": 4,
 "nbformat_minor": 2
}
