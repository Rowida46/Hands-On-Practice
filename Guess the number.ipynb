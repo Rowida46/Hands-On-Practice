{
 "cells": [
  {
   "cell_type": "code",
   "execution_count": 1,
   "metadata": {},
   "outputs": [
    {
     "name": "stdout",
     "output_type": "stream",
     "text": [
      "guess a number to check wigther it's right or not , u've 3 trail\n",
      "ur first trail \n",
      "\n",
      "4\n",
      "ur guess is smaller than the actual number \n",
      "ur second trail\n",
      "\n",
      "5\n",
      "ur guess is smaller than the actual number \n",
      "watch out , it's ur last one \n",
      "\n",
      "90\n",
      "ur guess is a little bite bigger \n"
     ]
    }
   ],
   "source": [
    "import random as r \n",
    "rand = r.randint(3,100)\n",
    "# create a function that provide the number of trail guess \n",
    "def trail():\n",
    "    print(\"guess a number to check wigther it's right or not , u've 3 trail\")\n",
    "    global guess \n",
    "    msg = ['ur first trail ' , 'ur second trail' , 'watch out , it\\'s ur last one ']\n",
    "    for a , b in enumerate(msg):\n",
    "        print(b)\n",
    "        print()\n",
    "        guess = int(input()) \n",
    "        if guess > rand :\n",
    "            print(\"ur guess is a little bite bigger \")\n",
    "        elif guess < rand :\n",
    "            print(\"ur guess is smaller than the actual number \")            \n",
    "        else:\n",
    "            break\n",
    "    return guess\n",
    "\n",
    "u = trail()\n",
    "\n",
    "    "
   ]
  },
  {
   "cell_type": "code",
   "execution_count": 2,
   "metadata": {},
   "outputs": [
    {
     "name": "stdout",
     "output_type": "stream",
     "text": [
      "hard luck\n"
     ]
    }
   ],
   "source": [
    "def check_trail(guess , rand):\n",
    "    if rand == guess :\n",
    "        print(\"well done\")\n",
    "    else:\n",
    "        print(\"hard luck\")\n",
    "check_trail(u , rand)"
   ]
  }
 ],
 "metadata": {
  "kernelspec": {
   "display_name": "Python 3",
   "language": "python",
   "name": "python3"
  },
  "language_info": {
   "codemirror_mode": {
    "name": "ipython",
    "version": 3
   },
   "file_extension": ".py",
   "mimetype": "text/x-python",
   "name": "python",
   "nbconvert_exporter": "python",
   "pygments_lexer": "ipython3",
   "version": "3.7.0"
  }
 },
 "nbformat": 4,
 "nbformat_minor": 2
}
