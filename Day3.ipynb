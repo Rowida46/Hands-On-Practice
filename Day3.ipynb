{
 "cells": [
  {
   "cell_type": "code",
   "execution_count": 1,
   "metadata": {},
   "outputs": [
    {
     "data": {
      "text/plain": [
       "False"
      ]
     },
     "execution_count": 1,
     "metadata": {},
     "output_type": "execute_result"
    }
   ],
   "source": [
    "class Stack:\n",
    "    def __init__(self):\n",
    "        self.items = []\n",
    "\n",
    "    def isEmpty(self):\n",
    "         return self.items == []\n",
    "\n",
    "    def push(self, item):\n",
    "        self.items.append(item)\n",
    "\n",
    "    def pop(self):\n",
    "        return self.items.pop()\n",
    "\n",
    "    def peek(self):\n",
    "        return self.items[len(self.items)-1]\n",
    "\n",
    "    def size(self):\n",
    "        return len(self.items)\n",
    "\n",
    "class stack :\n",
    "    def __init__(self):\n",
    "        self.items = []\n",
    "    def isempty(self):\n",
    "        return len(self.items) ==0\n",
    "s = stack()\n",
    "s.items = [8]\n",
    "s.isempty()       "
   ]
  },
  {
   "cell_type": "code",
   "execution_count": 6,
   "metadata": {},
   "outputs": [
    {
     "name": "stdout",
     "output_type": "stream",
     "text": [
      "3\n",
      "4 2 10 1\n",
      "14 3\n"
     ]
    }
   ],
   "source": [
    "n=int(input())\n",
    "a=list(map(int,input().split()))\n",
    "sum1=0\n",
    "sum2=0\n",
    "i=0\n",
    "while len(a)>0:\n",
    "    z=max(a[0],a[len(a)-1])\n",
    "    if i%2==0:\n",
    "        sum1+=z\n",
    "    else:\n",
    "        sum2+=z\n",
    "    a.remove(z)\t\n",
    "    i+=1\n",
    "print(sum1,sum2)"
   ]
  },
  {
   "cell_type": "code",
   "execution_count": 17,
   "metadata": {},
   "outputs": [
    {
     "data": {
      "text/plain": [
       "51.05"
      ]
     },
     "execution_count": 17,
     "metadata": {},
     "output_type": "execute_result"
    }
   ],
   "source": [
    "class Employee:\n",
    "\n",
    "    num_of_emps = 0\n",
    "    raise_amt = 1.04\n",
    "\n",
    "    def __init__(self, first, last, pay):\n",
    "        self.first = first\n",
    "        self.last = last\n",
    "        self.email = first + '.' + last + '@email.com'\n",
    "        self.pay = pay\n",
    "\n",
    "        Employee.num_of_emps += 1\n",
    "    def fullname(self):\n",
    "        return '{} {}'.format(self.first, self.last)\n",
    "\n",
    "    @classmethod\n",
    "    def set_raise_amt(cls, amount):\n",
    "        cls.raise_amt = amount\n",
    "\n",
    "dana = Employee('dana' , 'nagah' , 2000)\n",
    "rowida = Employee('dana' , 'nagah' , 9000)\n",
    "\n",
    "Employee.set_raise_amt(1.05)\n",
    "dana.set_raise_amt(1.905)\n",
    "rowida.set_raise_amt(51.05)\n",
    "\n",
    "Employee.raise_amt"
   ]
  },
  {
   "cell_type": "code",
   "execution_count": 19,
   "metadata": {},
   "outputs": [],
   "source": [
    "emp_str_1 = 'John-Doe-70000'\n",
    "new_emp_1 = Employee.set_raise_amt(emp_str_1)\n"
   ]
  },
  {
   "cell_type": "code",
   "execution_count": 26,
   "metadata": {},
   "outputs": [
    {
     "data": {
      "text/plain": [
       "'oh shit here we go again'"
      ]
     },
     "execution_count": 26,
     "metadata": {},
     "output_type": "execute_result"
    }
   ],
   "source": [
    "class test: \n",
    "    def __init__(self , x , y ):\n",
    "        self.y = y \n",
    "        self.x = x\n",
    "    def setmethod(self):\n",
    "        return \"oh shit here we go again\"\n",
    "Y = test(5 , 6)\n",
    "Y.setmethod()"
   ]
  },
  {
   "cell_type": "code",
   "execution_count": 51,
   "metadata": {},
   "outputs": [
    {
     "data": {
      "text/plain": [
       "'oh shit here we go again'"
      ]
     },
     "execution_count": 51,
     "metadata": {},
     "output_type": "execute_result"
    }
   ],
   "source": [
    "class Note():\n",
    "    last_id =0 \n",
    "    def __init__ (self , memos , tags =\" \"):\n",
    "        self.memos =memos \n",
    "        self.tags = tags \n",
    "        Note.last_id+=1\n",
    "    def match(self, filter):\n",
    "         return filter in self.memos or filter in self.tags \n",
    "n1 = Note(\"hello first\")\n",
    "dana = Note(\"oh shit here we go again\")\n",
    "dana.memos"
   ]
  },
  {
   "cell_type": "code",
   "execution_count": 41,
   "metadata": {},
   "outputs": [
    {
     "data": {
      "text/plain": [
       "True"
      ]
     },
     "execution_count": 41,
     "metadata": {},
     "output_type": "execute_result"
    }
   ],
   "source": [
    "dana.match(\"here we \")"
   ]
  },
  {
   "cell_type": "code",
   "execution_count": 65,
   "metadata": {},
   "outputs": [
    {
     "data": {
      "text/plain": [
       "16"
      ]
     },
     "execution_count": 65,
     "metadata": {},
     "output_type": "execute_result"
    }
   ],
   "source": [
    "class Notebook(Note):\n",
    "    def __init__(self ):\n",
    "        self.notes =[]\n",
    "    def addNote(self , memos , tags =\" \"):\n",
    "        # to add new note by calling the first class \n",
    "        self.notes.append(Note(memos , tags))\n",
    "    def modifayNote(self , id , memo):\n",
    "        # '''Find the note with the given id and change its memo to the given value.''' \n",
    "        for note in self.notes :\n",
    "            if note.last_id== id :\n",
    "                note.memoes = memo\n",
    "            else :\n",
    "                break\n",
    "    \n",
    "g = Notebook()\n",
    "g.addNote(\"Ah shit, here we go again. Worst place in the world, Rolling Heights Ballas country I ain't represented Grove Street in 5 years, but the Ballas won't give a shit.\")\n",
    "g.modifayNote(2 , dana.memos)\n",
    "g.last_id"
   ]
  },
  {
   "cell_type": "code",
   "execution_count": 66,
   "metadata": {},
   "outputs": [
    {
     "data": {
      "text/plain": [
       "{1: 'hello first', 2: 'oh shit here we go again'}"
      ]
     },
     "execution_count": 66,
     "metadata": {},
     "output_type": "execute_result"
    }
   ],
   "source": [
    "class Note():\n",
    "    last_id =0 \n",
    "    Notes = {}\n",
    "    def __init__ (self , memos , tags =\" \"):\n",
    "        self.memos =memos \n",
    "        self.tags = tags \n",
    "        Note.last_id+=1\n",
    "        Note.Notes[Note.last_id] = memos\n",
    "    def match(self, filter):\n",
    "         return filter in self.memos or filter in self.tags \n",
    "n1 = Note(\"hello first\")\n",
    "dana = Note(\"oh shit here we go again\")\n",
    "Note.Notes"
   ]
  },
  {
   "cell_type": "code",
   "execution_count": 67,
   "metadata": {},
   "outputs": [
    {
     "data": {
      "text/plain": [
       "{1: 'hello first', 2: 'oh shit here we go again', 3: ' HERE WE GO'}"
      ]
     },
     "execution_count": 67,
     "metadata": {},
     "output_type": "execute_result"
    }
   ],
   "source": [
    "class Notebook(Note):\n",
    "    def __init__(self ):\n",
    "        self.notes =[]\n",
    "    def addNote(self , memos , tags =\" \"):\n",
    "        # to add new note by calling the first class \n",
    "        self.notes.append(Note(memos , tags))\n",
    "    def modifayNote(self , id , memo):\n",
    "        # '''Find the note with the given id and change its memo to the given value.''' \n",
    "        for note in self.notes :\n",
    "            if note.last_id== id :\n",
    "                note.memoes = memo\n",
    "            else :\n",
    "                break\n",
    "    def search(self, filter):\n",
    "        return [note for note in self.notes if note.match(filter)] \n",
    "                \n",
    "wel =Notebook()\n",
    "wel.addNote(\" HERE WE GO\")\n",
    "wel.modifayNote(2 , \"mother fucker\") #Note.Notes\n",
    "wel.search(\" HERE \")\n",
    "Note.Notes"
   ]
  },
  {
   "cell_type": "code",
   "execution_count": 80,
   "metadata": {},
   "outputs": [
    {
     "data": {
      "text/plain": [
       "{1: 'hello first',\n",
       " 2: 'oh shit here we go again',\n",
       " 3: ' HERE WE GO',\n",
       " 4: \"Ah shit, here we go again. Worst place in the world, Rolling Heights Ballas country I ain't represented Grove Street in 5 years, but the Ballas won't give a shit.\",\n",
       " 5: \"Ah shit, here we go again. Worst place in the world, Rolling Heights Ballas country I ain't represented Grove Street in 5 years, but the Ballas won't give a shit.\"}"
      ]
     },
     "execution_count": 80,
     "metadata": {},
     "output_type": "execute_result"
    }
   ],
   "source": [
    "memes =  Notebook()\n",
    "memes.addNote(\"Ah shit, here we go again. Worst place in the world, Rolling Heights Ballas country I ain't represented Grove Street in 5 years, but the Ballas won't give a shit.\")\n",
    "Note.Notes"
   ]
  },
  {
   "cell_type": "code",
   "execution_count": 81,
   "metadata": {},
   "outputs": [],
   "source": [
    "import webbrowser"
   ]
  },
  {
   "cell_type": "code",
   "execution_count": 82,
   "metadata": {},
   "outputs": [
    {
     "data": {
      "text/plain": [
       "True"
      ]
     },
     "execution_count": 82,
     "metadata": {},
     "output_type": "execute_result"
    }
   ],
   "source": [
    "webbrowser.open('http://inventwithpython.com/')"
   ]
  },
  {
   "cell_type": "code",
   "execution_count": 86,
   "metadata": {},
   "outputs": [],
   "source": [
    "import webbrowser, sys, pyperclip\n",
    "if len(sys.argv) > 1:\n",
    "    # Get address from command line.\n",
    "    address = ' '.join(sys.argv[1:])\n",
    "else:\n",
    "    # Get address from clipboard.\n",
    "    address = pyperclip.paste()"
   ]
  },
  {
   "cell_type": "code",
   "execution_count": 87,
   "metadata": {},
   "outputs": [
    {
     "data": {
      "text/plain": [
       "'-f C:\\\\Users\\\\Rowida Nagah\\\\AppData\\\\Roaming\\\\jupyter\\\\runtime\\\\kernel-53d95616-b7c1-4d81-9fd0-bc5b88416301.json'"
      ]
     },
     "execution_count": 87,
     "metadata": {},
     "output_type": "execute_result"
    }
   ],
   "source": [
    "address"
   ]
  },
  {
   "cell_type": "code",
   "execution_count": 88,
   "metadata": {},
   "outputs": [
    {
     "data": {
      "text/plain": [
       "True"
      ]
     },
     "execution_count": 88,
     "metadata": {},
     "output_type": "execute_result"
    }
   ],
   "source": [
    "import requests\n",
    "req = requests.get('https://automatetheboringstuff.com/files/rj.txt')\n",
    "req.status_code == requests.codes.ok"
   ]
  },
  {
   "cell_type": "code",
   "execution_count": 89,
   "metadata": {},
   "outputs": [
    {
     "data": {
      "text/plain": [
       "178978"
      ]
     },
     "execution_count": 89,
     "metadata": {},
     "output_type": "execute_result"
    }
   ],
   "source": [
    "len(req.text)"
   ]
  },
  {
   "cell_type": "code",
   "execution_count": 91,
   "metadata": {},
   "outputs": [
    {
     "name": "stdout",
     "output_type": "stream",
     "text": [
      "The Project Gutenber\n"
     ]
    }
   ],
   "source": [
    "print(req.text[:20])"
   ]
  },
  {
   "cell_type": "code",
   "execution_count": null,
   "metadata": {},
   "outputs": [],
   "source": []
  }
 ],
 "metadata": {
  "kernelspec": {
   "display_name": "Python 3",
   "language": "python",
   "name": "python3"
  },
  "language_info": {
   "codemirror_mode": {
    "name": "ipython",
    "version": 3
   },
   "file_extension": ".py",
   "mimetype": "text/x-python",
   "name": "python",
   "nbconvert_exporter": "python",
   "pygments_lexer": "ipython3",
   "version": "3.7.0"
  }
 },
 "nbformat": 4,
 "nbformat_minor": 2
}
